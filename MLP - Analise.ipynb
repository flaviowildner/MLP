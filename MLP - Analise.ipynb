{
 "cells": [
  {
   "cell_type": "code",
   "execution_count": 1,
   "metadata": {},
   "outputs": [
    {
     "name": "stderr",
     "output_type": "stream",
     "text": [
      "Using TensorFlow backend.\n"
     ]
    }
   ],
   "source": [
    "import MLPlibrary\n",
    "import keras\n",
    "import json\n",
    "\n",
    "from keras.datasets import mnist\n",
    "from keras.models import Sequential\n",
    "from keras.layers import Dense, Dropout, Flatten\n",
    "from keras import initializers\n",
    "from keras import backend as K\n",
    "from keras.optimizers import Adagrad\n",
    "from keras.models import load_model\n",
    "\n",
    "from matplotlib import pyplot as plt\n",
    "\n",
    "from numpy import argmax\n",
    "\n",
    "import numpy as np\n",
    "np.set_printoptions(suppress=True)"
   ]
  },
  {
   "cell_type": "code",
   "execution_count": 2,
   "metadata": {},
   "outputs": [],
   "source": [
    "(train_x, train_y), (test_x, test_y) = mnist.load_data()\n",
    "\n",
    "train_x = train_x.astype('float32') / 255\n",
    "test_x = test_x.astype('float32') / 255\n",
    "\n",
    "train_x = train_x.reshape(60000, 784)\n",
    "test_x = test_x.reshape(10000, 784)\n",
    "\n",
    "train_y = keras.utils.to_categorical(train_y, 10)\n",
    "test_y = keras.utils.to_categorical(test_y, 10)"
   ]
  },
  {
   "cell_type": "code",
   "execution_count": 3,
   "metadata": {},
   "outputs": [],
   "source": [
    "i = 0\n",
    "models = []\n",
    "history = []\n",
    "while(1):\n",
    "    try:\n",
    "        model = load_model('model_' + str(i) + '.h5')\n",
    "        model.load_weights('weights_' + str(i) + '.h5')\n",
    "        with open('history_' + str(i) + '.json', 'r') as f:\n",
    "            history.append(json.load(f))\n",
    "    except OSError:\n",
    "        break\n",
    "    models.append(model)\n",
    "    i = i + 1"
   ]
  },
  {
   "cell_type": "code",
   "execution_count": 4,
   "metadata": {
    "scrolled": false
   },
   "outputs": [
    {
     "data": {
      "image/png": "[encoded data removed]",
      "text/plain": [
       "<Figure size 864x576 with 1 Axes>"
      ]
     },
     "metadata": {
      "needs_background": "light"
     },
     "output_type": "display_data"
    }
   ],
   "source": [
    "ruidos = [0.0, 0.1, 0.2, 0.3, 0.4, 0.5, 0.6, 0.7, 0.8, 0.82, 0.84, 0.86, 0.88, 0.90, 1.0]\n",
    "score = []\n",
    "for i in range(len(models)):\n",
    "    score.append(models[i].evaluate(test_x, test_y, verbose=0)[1])\n",
    "    \n",
    "plt.figure(figsize=(12,8))\n",
    "\n",
    "xi = [i for i in range(0, len(ruidos))]\n",
    "plt.plot(xi, score)\n",
    "\n",
    "plt.xticks(xi, ruidos)\n",
    "\n",
    "plt.title('accuracy')\n",
    "plt.ylabel('accuracy')\n",
    "plt.xlabel('noise')\n",
    "plt.legend(['accuracy', 'noise'], loc='upper left')\n",
    "\n",
    "plt.show()"
   ]
  },
  {
   "cell_type": "code",
   "execution_count": 5,
   "metadata": {},
   "outputs": [
    {
     "name": "stdout",
     "output_type": "stream",
     "text": [
      "Correto: 9728 \n",
      "Incorreto: 272 \n",
      "Acurácia: 0.9728\n"
     ]
    }
   ],
   "source": [
    "#Avaliar modelo\n",
    "pred_y = []\n",
    "true_y = []\n",
    "model_index = 0\n",
    "correto = 0\n",
    "incorreto = 0\n",
    "\n",
    "for i in range(len(test_x)):\n",
    "    predicted = models[model_index].predict_classes(test_x[i].reshape(1, 784))\n",
    "    pred_y.append(predicted[0])\n",
    "\n",
    "for i in test_y:\n",
    "    true_y.append(argmax(i))\n",
    "\n",
    "for i in range(len(test_y)):\n",
    "    if true_y[i] == pred_y[i]:\n",
    "        correto = correto + 1\n",
    "    else:\n",
    "        incorreto = incorreto + 1\n",
    "print('Correto:', correto, '\\nIncorreto:', incorreto, '\\nAcurácia:', correto / (correto + incorreto))"
   ]
  },
  {
   "cell_type": "code",
   "execution_count": 24,
   "metadata": {},
   "outputs": [
    {
     "data": {
      "image/png": "[encoded data removed]",
      "text/plain": [
       "<Figure size 432x288 with 1 Axes>"
      ]
     },
     "metadata": {
      "needs_background": "light"
     },
     "output_type": "display_data"
    }
   ],
   "source": [
    "index = 22 #Instância a ser prevista\n",
    "model_index = 0 #Modelo a ser usado\n",
    "img = train_x[index]\n",
    "classname = models[model_index].predict_classes(train_x[index].reshape(1, 784))[0]\n",
    "plt.imshow(img.reshape(28, 28))\n",
    "plt.title(classname)\n",
    "plt.gray()\n",
    "plt.show()"
   ]
  },
  {
   "cell_type": "code",
   "execution_count": 26,
   "metadata": {},
   "outputs": [],
   "source": [
    "def plot_loss(history, titulo='loss/epoch'):\n",
    "    plt.figure(figsize=(12,8))\n",
    "    plt.plot(history['loss'])\n",
    "    plt.plot(history['val_loss'])\n",
    "    plt.title(titulo)\n",
    "    plt.ylabel('loss')\n",
    "    plt.xlabel('epoch')\n",
    "    plt.legend(['train', 'test'], loc='upper left')\n",
    "    plt.show()"
   ]
  },
  {
   "cell_type": "code",
   "execution_count": null,
   "metadata": {
    "scrolled": false
   },
   "outputs": [],
   "source": [
    "plot_loss(history[0])"
   ]
  }
 ],
 "metadata": {
  "kernelspec": {
   "display_name": "Python 3",
   "language": "python",
   "name": "python3"
  },
  "language_info": {
   "codemirror_mode": {
    "name": "ipython",
    "version": 3
   },
   "file_extension": ".py",
   "mimetype": "text/x-python",
   "name": "python",
   "nbconvert_exporter": "python",
   "pygments_lexer": "ipython3",
   "version": "3.6.6"
  }
 },
 "nbformat": 4,
 "nbformat_minor": 2
}
